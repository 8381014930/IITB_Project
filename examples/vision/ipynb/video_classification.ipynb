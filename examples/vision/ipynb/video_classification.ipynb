{
  "cells": [
    {
      "cell_type": "markdown",
      "metadata": {
        "id": "P-D--Ev5TAv-"
      },
      "source": [
        "# Video Classification with a CNN-RNN Architecture\n",
        "\n",
        "**Author:** [Sayak Paul](https://twitter.com/RisingSayak)<br>\n",
        "**Date created:** 2021/05/28<br>\n",
        "**Last modified:** 2023/12/08<br>\n",
        "**Description:** Training a video classifier with transfer learning and a recurrent model on the UCF101 dataset."
      ]
    },
    {
      "cell_type": "markdown",
      "metadata": {
        "id": "qAqe6ouRTAwE"
      },
      "source": [
        "This example demonstrates video classification, an important use-case with\n",
        "applications in recommendations, security, and so on.\n",
        "We will be using the [UCF101 dataset](https://www.crcv.ucf.edu/data/UCF101.php)\n",
        "to build our video classifier. The dataset consists of videos categorized into different\n",
        "actions, like cricket shot, punching, biking, etc. This dataset is commonly used to\n",
        "build action recognizers, which are an application of video classification.\n",
        "\n",
        "A video consists of an ordered sequence of frames. Each frame contains *spatial*\n",
        "information, and the sequence of those frames contains *temporal* information. To model\n",
        "both of these aspects, we use a hybrid architecture that consists of convolutions\n",
        "(for spatial processing) as well as recurrent layers (for temporal processing).\n",
        "Specifically, we'll use a Convolutional Neural Network (CNN) and a Recurrent Neural\n",
        "Network (RNN) consisting of [GRU layers](https://keras.io/api/layers/recurrent_layers/gru/).\n",
        "This kind of hybrid architecture is popularly known as a **CNN-RNN**.\n",
        "\n",
        "This example requires TensorFlow 2.5 or higher, as well as TensorFlow Docs, which can be\n",
        "installed using the following command:"
      ]
    },
    {
      "cell_type": "code",
      "execution_count": 1,
      "metadata": {
        "colab": {
          "base_uri": "https://localhost:8080/"
        },
        "id": "vYEkZwnUTAwG",
        "outputId": "9c95efa9-0a67-42b8-87e8-abb5c3b902a9"
      },
      "outputs": [
        {
          "output_type": "stream",
          "name": "stdout",
          "text": [
            "  Preparing metadata (setup.py) ... \u001b[?25l\u001b[?25hdone\n",
            "  Building wheel for tensorflow-docs (setup.py) ... \u001b[?25l\u001b[?25hdone\n"
          ]
        }
      ],
      "source": [
        "!pip install -q git+https://github.com/tensorflow/docs"
      ]
    },
    {
      "cell_type": "markdown",
      "metadata": {
        "id": "kDogHq4QTAwI"
      },
      "source": [
        "## Data collection\n",
        "\n",
        "In order to keep the runtime of this example relatively short, we will be using a\n",
        "subsampled version of the original UCF101 dataset. You can refer to\n",
        "[this notebook](https://colab.research.google.com/github/sayakpaul/Action-Recognition-in-TensorFlow/blob/main/Data_Preparation_UCF101.ipynb)\n",
        "to know how the subsampling was done."
      ]
    },
    {
      "cell_type": "code",
      "execution_count": 2,
      "metadata": {
        "id": "lkcWq55QTAwI"
      },
      "outputs": [],
      "source": [
        "!!wget -q https://github.com/sayakpaul/Action-Recognition-in-TensorFlow/releases/download/v1.0.0/ucf101_top5.tar.gz\n",
        "!tar xf ucf101_top5.tar.gz"
      ]
    },
    {
      "cell_type": "markdown",
      "metadata": {
        "id": "CcRW09eJTAwJ"
      },
      "source": [
        "## Setup"
      ]
    },
    {
      "cell_type": "code",
      "execution_count": 3,
      "metadata": {
        "id": "aCVjtAmpTAwJ"
      },
      "outputs": [],
      "source": [
        "import os\n",
        "\n",
        "import keras\n",
        "from imutils import paths\n",
        "\n",
        "import matplotlib.pyplot as plt\n",
        "import pandas as pd\n",
        "import numpy as np\n",
        "import imageio\n",
        "import cv2\n",
        "from IPython.display import Image"
      ]
    },
    {
      "cell_type": "markdown",
      "metadata": {
        "id": "oW9uZsF6TAwK"
      },
      "source": [
        "## Define hyperparameters"
      ]
    },
    {
      "cell_type": "code",
      "execution_count": 4,
      "metadata": {
        "id": "h9-M9Z3HTAwK"
      },
      "outputs": [],
      "source": [
        "IMG_SIZE = 224\n",
        "BATCH_SIZE = 64\n",
        "EPOCHS = 10\n",
        "\n",
        "MAX_SEQ_LENGTH = 20\n",
        "NUM_FEATURES = 2048"
      ]
    },
    {
      "cell_type": "markdown",
      "metadata": {
        "id": "xXIbmd6UTAwK"
      },
      "source": [
        "## Data preparation"
      ]
    },
    {
      "cell_type": "code",
      "execution_count": 5,
      "metadata": {
        "colab": {
          "base_uri": "https://localhost:8080/",
          "height": 397
        },
        "id": "NHNy67HsTAwL",
        "outputId": "3234c7e1-7368-4e1f-cf4a-f7f63fe90f76"
      },
      "outputs": [
        {
          "output_type": "stream",
          "name": "stdout",
          "text": [
            "Total videos for training: 594\n",
            "Total videos for testing: 224\n"
          ]
        },
        {
          "output_type": "execute_result",
          "data": {
            "text/plain": [
              "                     video_name           tag\n",
              "64    v_CricketShot_g17_c02.avi   CricketShot\n",
              "582   v_TennisSwing_g24_c01.avi   TennisSwing\n",
              "254         v_Punch_g10_c03.avi         Punch\n",
              "85    v_CricketShot_g20_c07.avi   CricketShot\n",
              "65    v_CricketShot_g17_c03.avi   CricketShot\n",
              "533   v_TennisSwing_g16_c02.avi   TennisSwing\n",
              "236  v_PlayingCello_g25_c06.avi  PlayingCello\n",
              "433  v_ShavingBeard_g19_c05.avi  ShavingBeard\n",
              "34    v_CricketShot_g12_c07.avi   CricketShot\n",
              "111   v_CricketShot_g25_c01.avi   CricketShot"
            ],
            "text/html": [
              "\n",
              "  <div id=\"df-ecb16b36-f64f-49f0-b202-b36c0e844724\" class=\"colab-df-container\">\n",
              "    <div>\n",
              "<style scoped>\n",
              "    .dataframe tbody tr th:only-of-type {\n",
              "        vertical-align: middle;\n",
              "    }\n",
              "\n",
              "    .dataframe tbody tr th {\n",
              "        vertical-align: top;\n",
              "    }\n",
              "\n",
              "    .dataframe thead th {\n",
              "        text-align: right;\n",
              "    }\n",
              "</style>\n",
              "<table border=\"1\" class=\"dataframe\">\n",
              "  <thead>\n",
              "    <tr style=\"text-align: right;\">\n",
              "      <th></th>\n",
              "      <th>video_name</th>\n",
              "      <th>tag</th>\n",
              "    </tr>\n",
              "  </thead>\n",
              "  <tbody>\n",
              "    <tr>\n",
              "      <th>64</th>\n",
              "      <td>v_CricketShot_g17_c02.avi</td>\n",
              "      <td>CricketShot</td>\n",
              "    </tr>\n",
              "    <tr>\n",
              "      <th>582</th>\n",
              "      <td>v_TennisSwing_g24_c01.avi</td>\n",
              "      <td>TennisSwing</td>\n",
              "    </tr>\n",
              "    <tr>\n",
              "      <th>254</th>\n",
              "      <td>v_Punch_g10_c03.avi</td>\n",
              "      <td>Punch</td>\n",
              "    </tr>\n",
              "    <tr>\n",
              "      <th>85</th>\n",
              "      <td>v_CricketShot_g20_c07.avi</td>\n",
              "      <td>CricketShot</td>\n",
              "    </tr>\n",
              "    <tr>\n",
              "      <th>65</th>\n",
              "      <td>v_CricketShot_g17_c03.avi</td>\n",
              "      <td>CricketShot</td>\n",
              "    </tr>\n",
              "    <tr>\n",
              "      <th>533</th>\n",
              "      <td>v_TennisSwing_g16_c02.avi</td>\n",
              "      <td>TennisSwing</td>\n",
              "    </tr>\n",
              "    <tr>\n",
              "      <th>236</th>\n",
              "      <td>v_PlayingCello_g25_c06.avi</td>\n",
              "      <td>PlayingCello</td>\n",
              "    </tr>\n",
              "    <tr>\n",
              "      <th>433</th>\n",
              "      <td>v_ShavingBeard_g19_c05.avi</td>\n",
              "      <td>ShavingBeard</td>\n",
              "    </tr>\n",
              "    <tr>\n",
              "      <th>34</th>\n",
              "      <td>v_CricketShot_g12_c07.avi</td>\n",
              "      <td>CricketShot</td>\n",
              "    </tr>\n",
              "    <tr>\n",
              "      <th>111</th>\n",
              "      <td>v_CricketShot_g25_c01.avi</td>\n",
              "      <td>CricketShot</td>\n",
              "    </tr>\n",
              "  </tbody>\n",
              "</table>\n",
              "</div>\n",
              "    <div class=\"colab-df-buttons\">\n",
              "\n",
              "  <div class=\"colab-df-container\">\n",
              "    <button class=\"colab-df-convert\" onclick=\"convertToInteractive('df-ecb16b36-f64f-49f0-b202-b36c0e844724')\"\n",
              "            title=\"Convert this dataframe to an interactive table.\"\n",
              "            style=\"display:none;\">\n",
              "\n",
              "  <svg xmlns=\"http://www.w3.org/2000/svg\" height=\"24px\" viewBox=\"0 -960 960 960\">\n",
              "    <path d=\"M120-120v-720h720v720H120Zm60-500h600v-160H180v160Zm220 220h160v-160H400v160Zm0 220h160v-160H400v160ZM180-400h160v-160H180v160Zm440 0h160v-160H620v160ZM180-180h160v-160H180v160Zm440 0h160v-160H620v160Z\"/>\n",
              "  </svg>\n",
              "    </button>\n",
              "\n",
              "  <style>\n",
              "    .colab-df-container {\n",
              "      display:flex;\n",
              "      gap: 12px;\n",
              "    }\n",
              "\n",
              "    .colab-df-convert {\n",
              "      background-color: #E8F0FE;\n",
              "      border: none;\n",
              "      border-radius: 50%;\n",
              "      cursor: pointer;\n",
              "      display: none;\n",
              "      fill: #1967D2;\n",
              "      height: 32px;\n",
              "      padding: 0 0 0 0;\n",
              "      width: 32px;\n",
              "    }\n",
              "\n",
              "    .colab-df-convert:hover {\n",
              "      background-color: #E2EBFA;\n",
              "      box-shadow: 0px 1px 2px rgba(60, 64, 67, 0.3), 0px 1px 3px 1px rgba(60, 64, 67, 0.15);\n",
              "      fill: #174EA6;\n",
              "    }\n",
              "\n",
              "    .colab-df-buttons div {\n",
              "      margin-bottom: 4px;\n",
              "    }\n",
              "\n",
              "    [theme=dark] .colab-df-convert {\n",
              "      background-color: #3B4455;\n",
              "      fill: #D2E3FC;\n",
              "    }\n",
              "\n",
              "    [theme=dark] .colab-df-convert:hover {\n",
              "      background-color: #434B5C;\n",
              "      box-shadow: 0px 1px 3px 1px rgba(0, 0, 0, 0.15);\n",
              "      filter: drop-shadow(0px 1px 2px rgba(0, 0, 0, 0.3));\n",
              "      fill: #FFFFFF;\n",
              "    }\n",
              "  </style>\n",
              "\n",
              "    <script>\n",
              "      const buttonEl =\n",
              "        document.querySelector('#df-ecb16b36-f64f-49f0-b202-b36c0e844724 button.colab-df-convert');\n",
              "      buttonEl.style.display =\n",
              "        google.colab.kernel.accessAllowed ? 'block' : 'none';\n",
              "\n",
              "      async function convertToInteractive(key) {\n",
              "        const element = document.querySelector('#df-ecb16b36-f64f-49f0-b202-b36c0e844724');\n",
              "        const dataTable =\n",
              "          await google.colab.kernel.invokeFunction('convertToInteractive',\n",
              "                                                    [key], {});\n",
              "        if (!dataTable) return;\n",
              "\n",
              "        const docLinkHtml = 'Like what you see? Visit the ' +\n",
              "          '<a target=\"_blank\" href=https://colab.research.google.com/notebooks/data_table.ipynb>data table notebook</a>'\n",
              "          + ' to learn more about interactive tables.';\n",
              "        element.innerHTML = '';\n",
              "        dataTable['output_type'] = 'display_data';\n",
              "        await google.colab.output.renderOutput(dataTable, element);\n",
              "        const docLink = document.createElement('div');\n",
              "        docLink.innerHTML = docLinkHtml;\n",
              "        element.appendChild(docLink);\n",
              "      }\n",
              "    </script>\n",
              "  </div>\n",
              "\n",
              "\n",
              "<div id=\"df-7c24c147-53aa-4cbf-9d24-60df3f62653b\">\n",
              "  <button class=\"colab-df-quickchart\" onclick=\"quickchart('df-7c24c147-53aa-4cbf-9d24-60df3f62653b')\"\n",
              "            title=\"Suggest charts\"\n",
              "            style=\"display:none;\">\n",
              "\n",
              "<svg xmlns=\"http://www.w3.org/2000/svg\" height=\"24px\"viewBox=\"0 0 24 24\"\n",
              "     width=\"24px\">\n",
              "    <g>\n",
              "        <path d=\"M19 3H5c-1.1 0-2 .9-2 2v14c0 1.1.9 2 2 2h14c1.1 0 2-.9 2-2V5c0-1.1-.9-2-2-2zM9 17H7v-7h2v7zm4 0h-2V7h2v10zm4 0h-2v-4h2v4z\"/>\n",
              "    </g>\n",
              "</svg>\n",
              "  </button>\n",
              "\n",
              "<style>\n",
              "  .colab-df-quickchart {\n",
              "      --bg-color: #E8F0FE;\n",
              "      --fill-color: #1967D2;\n",
              "      --hover-bg-color: #E2EBFA;\n",
              "      --hover-fill-color: #174EA6;\n",
              "      --disabled-fill-color: #AAA;\n",
              "      --disabled-bg-color: #DDD;\n",
              "  }\n",
              "\n",
              "  [theme=dark] .colab-df-quickchart {\n",
              "      --bg-color: #3B4455;\n",
              "      --fill-color: #D2E3FC;\n",
              "      --hover-bg-color: #434B5C;\n",
              "      --hover-fill-color: #FFFFFF;\n",
              "      --disabled-bg-color: #3B4455;\n",
              "      --disabled-fill-color: #666;\n",
              "  }\n",
              "\n",
              "  .colab-df-quickchart {\n",
              "    background-color: var(--bg-color);\n",
              "    border: none;\n",
              "    border-radius: 50%;\n",
              "    cursor: pointer;\n",
              "    display: none;\n",
              "    fill: var(--fill-color);\n",
              "    height: 32px;\n",
              "    padding: 0;\n",
              "    width: 32px;\n",
              "  }\n",
              "\n",
              "  .colab-df-quickchart:hover {\n",
              "    background-color: var(--hover-bg-color);\n",
              "    box-shadow: 0 1px 2px rgba(60, 64, 67, 0.3), 0 1px 3px 1px rgba(60, 64, 67, 0.15);\n",
              "    fill: var(--button-hover-fill-color);\n",
              "  }\n",
              "\n",
              "  .colab-df-quickchart-complete:disabled,\n",
              "  .colab-df-quickchart-complete:disabled:hover {\n",
              "    background-color: var(--disabled-bg-color);\n",
              "    fill: var(--disabled-fill-color);\n",
              "    box-shadow: none;\n",
              "  }\n",
              "\n",
              "  .colab-df-spinner {\n",
              "    border: 2px solid var(--fill-color);\n",
              "    border-color: transparent;\n",
              "    border-bottom-color: var(--fill-color);\n",
              "    animation:\n",
              "      spin 1s steps(1) infinite;\n",
              "  }\n",
              "\n",
              "  @keyframes spin {\n",
              "    0% {\n",
              "      border-color: transparent;\n",
              "      border-bottom-color: var(--fill-color);\n",
              "      border-left-color: var(--fill-color);\n",
              "    }\n",
              "    20% {\n",
              "      border-color: transparent;\n",
              "      border-left-color: var(--fill-color);\n",
              "      border-top-color: var(--fill-color);\n",
              "    }\n",
              "    30% {\n",
              "      border-color: transparent;\n",
              "      border-left-color: var(--fill-color);\n",
              "      border-top-color: var(--fill-color);\n",
              "      border-right-color: var(--fill-color);\n",
              "    }\n",
              "    40% {\n",
              "      border-color: transparent;\n",
              "      border-right-color: var(--fill-color);\n",
              "      border-top-color: var(--fill-color);\n",
              "    }\n",
              "    60% {\n",
              "      border-color: transparent;\n",
              "      border-right-color: var(--fill-color);\n",
              "    }\n",
              "    80% {\n",
              "      border-color: transparent;\n",
              "      border-right-color: var(--fill-color);\n",
              "      border-bottom-color: var(--fill-color);\n",
              "    }\n",
              "    90% {\n",
              "      border-color: transparent;\n",
              "      border-bottom-color: var(--fill-color);\n",
              "    }\n",
              "  }\n",
              "</style>\n",
              "\n",
              "  <script>\n",
              "    async function quickchart(key) {\n",
              "      const quickchartButtonEl =\n",
              "        document.querySelector('#' + key + ' button');\n",
              "      quickchartButtonEl.disabled = true;  // To prevent multiple clicks.\n",
              "      quickchartButtonEl.classList.add('colab-df-spinner');\n",
              "      try {\n",
              "        const charts = await google.colab.kernel.invokeFunction(\n",
              "            'suggestCharts', [key], {});\n",
              "      } catch (error) {\n",
              "        console.error('Error during call to suggestCharts:', error);\n",
              "      }\n",
              "      quickchartButtonEl.classList.remove('colab-df-spinner');\n",
              "      quickchartButtonEl.classList.add('colab-df-quickchart-complete');\n",
              "    }\n",
              "    (() => {\n",
              "      let quickchartButtonEl =\n",
              "        document.querySelector('#df-7c24c147-53aa-4cbf-9d24-60df3f62653b button');\n",
              "      quickchartButtonEl.style.display =\n",
              "        google.colab.kernel.accessAllowed ? 'block' : 'none';\n",
              "    })();\n",
              "  </script>\n",
              "</div>\n",
              "\n",
              "    </div>\n",
              "  </div>\n"
            ],
            "application/vnd.google.colaboratory.intrinsic+json": {
              "type": "dataframe",
              "summary": "{\n  \"name\": \"train_df\",\n  \"rows\": 10,\n  \"fields\": [\n    {\n      \"column\": \"video_name\",\n      \"properties\": {\n        \"dtype\": \"string\",\n        \"num_unique_values\": 10,\n        \"samples\": [\n          \"v_CricketShot_g12_c07.avi\",\n          \"v_TennisSwing_g24_c01.avi\",\n          \"v_TennisSwing_g16_c02.avi\"\n        ],\n        \"semantic_type\": \"\",\n        \"description\": \"\"\n      }\n    },\n    {\n      \"column\": \"tag\",\n      \"properties\": {\n        \"dtype\": \"string\",\n        \"num_unique_values\": 5,\n        \"samples\": [\n          \"TennisSwing\",\n          \"ShavingBeard\",\n          \"Punch\"\n        ],\n        \"semantic_type\": \"\",\n        \"description\": \"\"\n      }\n    }\n  ]\n}"
            }
          },
          "metadata": {},
          "execution_count": 5
        }
      ],
      "source": [
        "train_df = pd.read_csv(\"train.csv\")\n",
        "test_df = pd.read_csv(\"test.csv\")\n",
        "\n",
        "print(f\"Total videos for training: {len(train_df)}\")\n",
        "print(f\"Total videos for testing: {len(test_df)}\")\n",
        "\n",
        "train_df.sample(10)"
      ]
    },
    {
      "cell_type": "markdown",
      "metadata": {
        "id": "g9u-Gf9WTAwL"
      },
      "source": [
        "One of the many challenges of training video classifiers is figuring out a way to feed\n",
        "the videos to a network. [This blog post](https://blog.coast.ai/five-video-classification-methods-implemented-in-keras-and-tensorflow-99cad29cc0b5)\n",
        "discusses five such methods. Since a video is an ordered sequence of frames, we could\n",
        "just extract the frames and put them in a 3D tensor. But the number of frames may differ\n",
        "from video to video which would prevent us from stacking them into batches\n",
        "(unless we use padding). As an alternative, we can **save video frames at a fixed\n",
        "interval until a maximum frame count is reached**. In this example we will do\n",
        "the following:\n",
        "\n",
        "1. Capture the frames of a video.\n",
        "2. Extract frames from the videos until a maximum frame count is reached.\n",
        "3. In the case, where a video's frame count is lesser than the maximum frame count we\n",
        "will pad the video with zeros.\n",
        "\n",
        "Note that this workflow is identical to [problems involving texts sequences](https://developers.google.com/machine-learning/guides/text-classification/). Videos of the UCF101 dataset is [known](https://www.crcv.ucf.edu/papers/UCF101_CRCV-TR-12-01.pdf)\n",
        "to not contain extreme variations in objects and actions across frames. Because of this,\n",
        "it may be okay to only consider a few frames for the learning task. But this approach may\n",
        "not generalize well to other video classification problems. We will be using\n",
        "[OpenCV's `VideoCapture()` method](https://docs.opencv.org/master/dd/d43/tutorial_py_video_display.html)\n",
        "to read frames from videos."
      ]
    },
    {
      "cell_type": "code",
      "execution_count": 6,
      "metadata": {
        "id": "GJNwrOEuTAwL"
      },
      "outputs": [],
      "source": [
        "# The following two methods are taken from this tutorial:\n",
        "# https://www.tensorflow.org/hub/tutorials/action_recognition_with_tf_hub\n",
        "\n",
        "\n",
        "def crop_center_square(frame):\n",
        "    y, x = frame.shape[0:2]\n",
        "    min_dim = min(y, x)\n",
        "    start_x = (x // 2) - (min_dim // 2)\n",
        "    start_y = (y // 2) - (min_dim // 2)\n",
        "    return frame[start_y : start_y + min_dim, start_x : start_x + min_dim]\n",
        "\n",
        "\n",
        "def load_video(path, max_frames=0, resize=(IMG_SIZE, IMG_SIZE)):\n",
        "    cap = cv2.VideoCapture(path)\n",
        "    frames = []\n",
        "    try:\n",
        "        while True:\n",
        "            ret, frame = cap.read()\n",
        "            if not ret:\n",
        "                break\n",
        "            frame = crop_center_square(frame)\n",
        "            frame = cv2.resize(frame, resize)\n",
        "            frame = frame[:, :, [2, 1, 0]]\n",
        "            frames.append(frame)\n",
        "\n",
        "            if len(frames) == max_frames:\n",
        "                break\n",
        "    finally:\n",
        "        cap.release()\n",
        "    return np.array(frames)\n"
      ]
    },
    {
      "cell_type": "markdown",
      "metadata": {
        "id": "qk8_kQsmTAwM"
      },
      "source": [
        "We can use a pre-trained network to extract meaningful features from the extracted\n",
        "frames. The [`Keras Applications`](https://keras.io/api/applications/) module provides\n",
        "a number of state-of-the-art models pre-trained on the [ImageNet-1k dataset](http://image-net.org/).\n",
        "We will be using the [InceptionV3 model](https://arxiv.org/abs/1512.00567) for this purpose."
      ]
    },
    {
      "cell_type": "code",
      "execution_count": 7,
      "metadata": {
        "colab": {
          "base_uri": "https://localhost:8080/"
        },
        "id": "cAqVOSoHTAwM",
        "outputId": "6f5040f1-51e5-4c3a-e4f4-65747f6685f3"
      },
      "outputs": [
        {
          "output_type": "stream",
          "name": "stdout",
          "text": [
            "Downloading data from https://storage.googleapis.com/tensorflow/keras-applications/inception_v3/inception_v3_weights_tf_dim_ordering_tf_kernels_notop.h5\n",
            "87910968/87910968 [==============================] - 0s 0us/step\n"
          ]
        }
      ],
      "source": [
        "\n",
        "def build_feature_extractor():\n",
        "    feature_extractor = keras.applications.InceptionV3(\n",
        "        weights=\"imagenet\",\n",
        "        include_top=False,\n",
        "        pooling=\"avg\",\n",
        "        input_shape=(IMG_SIZE, IMG_SIZE, 3),\n",
        "    )\n",
        "    preprocess_input = keras.applications.inception_v3.preprocess_input\n",
        "\n",
        "    inputs = keras.Input((IMG_SIZE, IMG_SIZE, 3))\n",
        "    preprocessed = preprocess_input(inputs)\n",
        "\n",
        "    outputs = feature_extractor(preprocessed)\n",
        "    return keras.Model(inputs, outputs, name=\"feature_extractor\")\n",
        "\n",
        "\n",
        "feature_extractor = build_feature_extractor()"
      ]
    },
    {
      "cell_type": "markdown",
      "metadata": {
        "id": "AHvURTVmTAwM"
      },
      "source": [
        "The labels of the videos are strings. Neural networks do not understand string values,\n",
        "so they must be converted to some numerical form before they are fed to the model. Here\n",
        "we will use the [`StringLookup`](https://keras.io/api/layers/preprocessing_layers/categorical/string_lookup)\n",
        "layer encode the class labels as integers."
      ]
    },
    {
      "cell_type": "code",
      "execution_count": 8,
      "metadata": {
        "colab": {
          "base_uri": "https://localhost:8080/"
        },
        "id": "7l_xQMaZTAwN",
        "outputId": "4b761e9c-3cc6-445d-ca34-f84c2d90d7fb"
      },
      "outputs": [
        {
          "output_type": "stream",
          "name": "stdout",
          "text": [
            "['CricketShot', 'PlayingCello', 'Punch', 'ShavingBeard', 'TennisSwing']\n"
          ]
        }
      ],
      "source": [
        "label_processor = keras.layers.StringLookup(\n",
        "    num_oov_indices=0, vocabulary=np.unique(train_df[\"tag\"])\n",
        ")\n",
        "print(label_processor.get_vocabulary())"
      ]
    },
    {
      "cell_type": "markdown",
      "metadata": {
        "id": "nkkvvqYVTAwN"
      },
      "source": [
        "Finally, we can put all the pieces together to create our data processing utility."
      ]
    },
    {
      "cell_type": "code",
      "execution_count": 12,
      "metadata": {
        "colab": {
          "base_uri": "https://localhost:8080/"
        },
        "id": "QnSJnW31TAwN",
        "outputId": "a00a77a4-1c99-4b1c-da68-b3657a22867e"
      },
      "outputs": [
        {
          "output_type": "stream",
          "name": "stdout",
          "text": [
            "Frame features in train set: (594, 100, 2048)\n",
            "Frame masks in train set: (594, 100)\n"
          ]
        }
      ],
      "source": [
        "\n",
        "import pandas as pd\n",
        "import numpy as np\n",
        "import os\n",
        "import tensorflow as tf\n",
        "from tensorflow import keras\n",
        "\n",
        "# Define constants used in the script\n",
        "MAX_SEQ_LENGTH = 100  # Example value, adjust according to your needs\n",
        "NUM_FEATURES = 2048  # Example value, adjust according to your needs\n",
        "\n",
        "# Define the feature extractor function (replace this with your actual function)\n",
        "def feature_extractor(batch):\n",
        "    # This is a placeholder. Replace with your actual feature extraction logic.\n",
        "    return np.random.rand(1, NUM_FEATURES)\n",
        "\n",
        "# Define the load_video function (replace this with your actual function)\n",
        "def load_video(path):\n",
        "    # This is a placeholder. Replace with your actual video loading logic.\n",
        "    return np.random.rand(10, 224, 224, 3)  # Example video frames\n",
        "\n",
        "# Placeholder for label_processor function (replace this with your actual function)\n",
        "def label_processor(labels):\n",
        "    # This is a placeholder. Replace with your actual label processing logic.\n",
        "    return np.random.rand(len(labels), 1)\n",
        "\n",
        "# Load data into DataFrames\n",
        "train_df = pd.read_csv(r'train.csv')\n",
        "test_df = pd.read_csv(r'test.csv')\n",
        "\n",
        "def prepare_all_videos(df, root_dir):\n",
        "    num_samples = len(df)\n",
        "    video_paths = df[\"video_name\"].values.tolist()\n",
        "    labels = df[\"tag\"].values\n",
        "    labels = tf.convert_to_tensor(label_processor(labels[..., None]))\n",
        "\n",
        "    # frame_masks and frame_features are what we will feed to our sequence model.\n",
        "    frame_masks = np.zeros(shape=(num_samples, MAX_SEQ_LENGTH), dtype=bool)\n",
        "    frame_features = np.zeros(shape=(num_samples, MAX_SEQ_LENGTH, NUM_FEATURES), dtype=np.float32)\n",
        "\n",
        "    # For each video.\n",
        "    for idx, path in enumerate(video_paths):\n",
        "        # Gather all its frames and add a batch dimension.\n",
        "        frames = load_video(os.path.join(root_dir, path))\n",
        "        frames = frames[None, ...]\n",
        "\n",
        "        # Initialize placeholders to store the masks and features of the current video.\n",
        "        temp_frame_mask = np.zeros(shape=(1, MAX_SEQ_LENGTH), dtype=bool)\n",
        "        temp_frame_features = np.zeros(shape=(1, MAX_SEQ_LENGTH, NUM_FEATURES), dtype=np.float32)\n",
        "\n",
        "        # Extract features from the frames of the current video.\n",
        "        for i, batch in enumerate(frames):\n",
        "            video_length = batch.shape[0]\n",
        "            length = min(MAX_SEQ_LENGTH, video_length)\n",
        "            for j in range(length):\n",
        "                temp_frame_features[i, j, :] = feature_extractor(batch[None, j, :])\n",
        "            temp_frame_mask[i, :length] = 1  # 1 = not masked, 0 = masked\n",
        "\n",
        "        frame_features[idx] = temp_frame_features.squeeze()\n",
        "        frame_masks[idx] = temp_frame_mask.squeeze()\n",
        "    return (frame_features, frame_masks), labels\n",
        "\n",
        "# Prepare training and testing data\n",
        "train_data, train_labels = prepare_all_videos(train_df, \"train\")\n",
        "test_data, test_labels = prepare_all_videos(test_df, \"test\")\n",
        "\n",
        "print(f\"Frame features in train set: {train_data[0].shape}\")\n",
        "print(f\"Frame masks in train set: {train_data[1].shape}\")\n"
      ]
    },
    {
      "cell_type": "markdown",
      "metadata": {
        "id": "FEpeHlW7TAwO"
      },
      "source": [
        "The above code block will take ~20 minutes to execute depending on the machine it's being\n",
        "executed."
      ]
    },
    {
      "cell_type": "markdown",
      "metadata": {
        "id": "3MuY1tBoTAwO"
      },
      "source": [
        "## The sequence model\n",
        "\n",
        "Now, we can feed this data to a sequence model consisting of recurrent layers like `GRU`."
      ]
    },
    {
      "cell_type": "code",
      "execution_count": 16,
      "metadata": {
        "colab": {
          "base_uri": "https://localhost:8080/"
        },
        "id": "gth6BfyXTAwO",
        "outputId": "d00498de-c60b-4711-b330-2cdaac52342f"
      },
      "outputs": [
        {
          "output_type": "stream",
          "name": "stdout",
          "text": [
            "Epoch 1/10\n",
            "13/13 [==============================] - ETA: 0s - loss: 6.2301 - accuracy: 0.0000e+00\n",
            "Epoch 1: val_loss improved from inf to 6.09148, saving model to /tmp/video_classifier/ckpt.weights.h5\n",
            "13/13 [==============================] - 15s 278ms/step - loss: 6.2301 - accuracy: 0.0000e+00 - val_loss: 6.0915 - val_accuracy: 0.0000e+00\n",
            "Epoch 2/10\n",
            "13/13 [==============================] - ETA: 0s - loss: 6.0204 - accuracy: 0.0000e+00\n",
            "Epoch 2: val_loss improved from 6.09148 to 5.88847, saving model to /tmp/video_classifier/ckpt.weights.h5\n",
            "13/13 [==============================] - 1s 68ms/step - loss: 6.0204 - accuracy: 0.0000e+00 - val_loss: 5.8885 - val_accuracy: 0.0000e+00\n",
            "Epoch 3/10\n",
            "13/13 [==============================] - ETA: 0s - loss: 5.7947 - accuracy: 0.0000e+00\n",
            "Epoch 3: val_loss improved from 5.88847 to 5.66612, saving model to /tmp/video_classifier/ckpt.weights.h5\n",
            "13/13 [==============================] - 1s 70ms/step - loss: 5.7947 - accuracy: 0.0000e+00 - val_loss: 5.6661 - val_accuracy: 0.0000e+00\n",
            "Epoch 4/10\n",
            "12/13 [==========================>...] - ETA: 0s - loss: 5.5619 - accuracy: 0.0000e+00\n",
            "Epoch 4: val_loss improved from 5.66612 to 5.42161, saving model to /tmp/video_classifier/ckpt.weights.h5\n",
            "13/13 [==============================] - 1s 80ms/step - loss: 5.5544 - accuracy: 0.0000e+00 - val_loss: 5.4216 - val_accuracy: 0.0000e+00\n",
            "Epoch 5/10\n",
            "12/13 [==========================>...] - ETA: 0s - loss: 5.2955 - accuracy: 0.0000e+00\n",
            "Epoch 5: val_loss improved from 5.42161 to 5.14037, saving model to /tmp/video_classifier/ckpt.weights.h5\n",
            "13/13 [==============================] - 1s 57ms/step - loss: 5.2826 - accuracy: 0.0000e+00 - val_loss: 5.1404 - val_accuracy: 0.0000e+00\n",
            "Epoch 6/10\n",
            "12/13 [==========================>...] - ETA: 0s - loss: 4.9788 - accuracy: 0.0000e+00\n",
            "Epoch 6: val_loss improved from 5.14037 to 4.80803, saving model to /tmp/video_classifier/ckpt.weights.h5\n",
            "13/13 [==============================] - 1s 56ms/step - loss: 4.9666 - accuracy: 0.0000e+00 - val_loss: 4.8080 - val_accuracy: 0.0000e+00\n",
            "Epoch 7/10\n",
            "11/13 [========================>.....] - ETA: 0s - loss: 4.6488 - accuracy: 0.0000e+00\n",
            "Epoch 7: val_loss improved from 4.80803 to 4.42160, saving model to /tmp/video_classifier/ckpt.weights.h5\n",
            "13/13 [==============================] - 1s 39ms/step - loss: 4.6093 - accuracy: 0.0000e+00 - val_loss: 4.4216 - val_accuracy: 0.0000e+00\n",
            "Epoch 8/10\n",
            "11/13 [========================>.....] - ETA: 0s - loss: 4.2284 - accuracy: 0.0000e+00\n",
            "Epoch 8: val_loss improved from 4.42160 to 3.97312, saving model to /tmp/video_classifier/ckpt.weights.h5\n",
            "13/13 [==============================] - 1s 40ms/step - loss: 4.1855 - accuracy: 0.0000e+00 - val_loss: 3.9731 - val_accuracy: 0.0000e+00\n",
            "Epoch 9/10\n",
            "13/13 [==============================] - ETA: 0s - loss: 3.7041 - accuracy: 0.0000e+00\n",
            "Epoch 9: val_loss improved from 3.97312 to 3.46339, saving model to /tmp/video_classifier/ckpt.weights.h5\n",
            "13/13 [==============================] - 0s 38ms/step - loss: 3.7041 - accuracy: 0.0000e+00 - val_loss: 3.4634 - val_accuracy: 0.0000e+00\n",
            "Epoch 10/10\n",
            "12/13 [==========================>...] - ETA: 0s - loss: 3.1954 - accuracy: 0.0000e+00\n",
            "Epoch 10: val_loss improved from 3.46339 to 2.85792, saving model to /tmp/video_classifier/ckpt.weights.h5\n",
            "13/13 [==============================] - 0s 37ms/step - loss: 3.1748 - accuracy: 0.0000e+00 - val_loss: 2.8579 - val_accuracy: 0.0000e+00\n",
            "7/7 [==============================] - 0s 17ms/step - loss: 2.8579 - accuracy: 0.0000e+00\n",
            "Test accuracy: 0.0%\n"
          ]
        }
      ],
      "source": [
        "\n",
        "# Utility for our sequence model.\n",
        "#def get_sequence_model():\n",
        " #   class_vocab = label_processor.get_vocabulary()\n",
        "\n",
        "  #  frame_features_input = keras.Input((MAX_SEQ_LENGTH, NUM_FEATURES))\n",
        "   # mask_input = keras.Input((MAX_SEQ_LENGTH,), dtype=\"bool\")\n",
        "\n",
        "def get_sequence_model():\n",
        "    class_vocab = label_processor(train_labels[..., None])  # Direct call to function\n",
        "\n",
        "    frame_features_input = keras.Input((MAX_SEQ_LENGTH, NUM_FEATURES))\n",
        "    mask_input = keras.Input((MAX_SEQ_LENGTH,), dtype=\"bool\")\n",
        "    # Refer to the following tutorial to understand the significance of using mask:\n",
        "    # https://keras.io/api/layers/recurrent_layers/gru/\n",
        "    x = keras.layers.GRU(16, return_sequences=True)(\n",
        "        frame_features_input, mask=mask_input\n",
        "    )\n",
        "    x = keras.layers.GRU(8)(x)\n",
        "    x = keras.layers.Dropout(0.4)(x)\n",
        "    x = keras.layers.Dense(8, activation=\"relu\")(x)\n",
        "    output = keras.layers.Dense(len(class_vocab), activation=\"softmax\")(x)\n",
        "\n",
        "    rnn_model = keras.Model([frame_features_input, mask_input], output)\n",
        "    rnn_model.compile(\n",
        "        loss=\"sparse_categorical_crossentropy\", optimizer=\"adam\", metrics=[\"accuracy\"]\n",
        "    )\n",
        "    return rnn_model\n",
        "\n",
        "\n",
        "# Utility for running experiments.\n",
        "def run_experiment():\n",
        "    filepath = \"/tmp/video_classifier/ckpt.weights.h5\"\n",
        "    checkpoint = keras.callbacks.ModelCheckpoint(\n",
        "        filepath, save_weights_only=True, save_best_only=True, verbose=1\n",
        "    )\n",
        "\n",
        "    seq_model = get_sequence_model()\n",
        "    history = seq_model.fit(\n",
        "        [train_data[0], train_data[1]],\n",
        "        train_labels,\n",
        "        validation_split=0.3,\n",
        "        epochs=EPOCHS,\n",
        "        callbacks=[checkpoint],\n",
        "    )\n",
        "\n",
        "    seq_model.load_weights(filepath)\n",
        "    _, accuracy = seq_model.evaluate([test_data[0], test_data[1]], test_labels)\n",
        "    print(f\"Test accuracy: {round(accuracy * 100, 2)}%\")\n",
        "\n",
        "    return history, seq_model\n",
        "_, sequence_model = run_experiment()\n"
      ]
    },
    {
      "cell_type": "markdown",
      "metadata": {
        "id": "mgFxEX8bTAwP"
      },
      "source": [
        "**Note**: To keep the runtime of this example relatively short, we just used a few\n",
        "training examples. This number of training examples is low with respect to the sequence\n",
        "model being used that has 99,909 trainable parameters. You are encouraged to sample more\n",
        "data from the UCF101 dataset using [the notebook](https://colab.research.google.com/github/sayakpaul/Action-Recognition-in-TensorFlow/blob/main/Data_Preparation_UCF101.ipynb) mentioned above and train the same model."
      ]
    },
    {
      "cell_type": "markdown",
      "metadata": {
        "id": "bwEyfvsbTAwP"
      },
      "source": [
        "## Inference"
      ]
    },
    {
      "cell_type": "code",
      "execution_count": 31,
      "metadata": {
        "colab": {
          "base_uri": "https://localhost:8080/",
          "height": 332
        },
        "id": "QPWFbulsTAwP",
        "outputId": "b21a8836-dad2-4f52-8cb8-b3b843300256"
      },
      "outputs": [
        {
          "output_type": "stream",
          "name": "stdout",
          "text": [
            "Test video path: v_CricketShot_g07_c08.avi\n"
          ]
        },
        {
          "output_type": "error",
          "ename": "TypeError",
          "evalue": "SequenceModel.predict() missing 1 required positional argument: 'x'",
          "traceback": [
            "\u001b[0;31m---------------------------------------------------------------------------\u001b[0m",
            "\u001b[0;31mTypeError\u001b[0m                                 Traceback (most recent call last)",
            "\u001b[0;32m<ipython-input-31-d79c506cc053>\u001b[0m in \u001b[0;36m<cell line: 45>\u001b[0;34m()\u001b[0m\n\u001b[1;32m     43\u001b[0m \u001b[0mtest_video\u001b[0m \u001b[0;34m=\u001b[0m \u001b[0mnp\u001b[0m\u001b[0;34m.\u001b[0m\u001b[0mrandom\u001b[0m\u001b[0;34m.\u001b[0m\u001b[0mchoice\u001b[0m\u001b[0;34m(\u001b[0m\u001b[0mtest_df\u001b[0m\u001b[0;34m[\u001b[0m\u001b[0;34m\"video_name\"\u001b[0m\u001b[0;34m]\u001b[0m\u001b[0;34m.\u001b[0m\u001b[0mvalues\u001b[0m\u001b[0;34m.\u001b[0m\u001b[0mtolist\u001b[0m\u001b[0;34m(\u001b[0m\u001b[0;34m)\u001b[0m\u001b[0;34m)\u001b[0m\u001b[0;34m\u001b[0m\u001b[0;34m\u001b[0m\u001b[0m\n\u001b[1;32m     44\u001b[0m \u001b[0mprint\u001b[0m\u001b[0;34m(\u001b[0m\u001b[0;34mf\"Test video path: {test_video}\"\u001b[0m\u001b[0;34m)\u001b[0m\u001b[0;34m\u001b[0m\u001b[0;34m\u001b[0m\u001b[0m\n\u001b[0;32m---> 45\u001b[0;31m \u001b[0mtest_frames\u001b[0m \u001b[0;34m=\u001b[0m \u001b[0msequence_prediction\u001b[0m\u001b[0;34m(\u001b[0m\u001b[0mtest_video\u001b[0m\u001b[0;34m)\u001b[0m\u001b[0;34m\u001b[0m\u001b[0;34m\u001b[0m\u001b[0m\n\u001b[0m\u001b[1;32m     46\u001b[0m \u001b[0mto_gif\u001b[0m\u001b[0;34m(\u001b[0m\u001b[0mtest_frames\u001b[0m\u001b[0;34m[\u001b[0m\u001b[0;34m:\u001b[0m\u001b[0mMAX_SEQ_LENGTH\u001b[0m\u001b[0;34m]\u001b[0m\u001b[0;34m)\u001b[0m\u001b[0;34m\u001b[0m\u001b[0;34m\u001b[0m\u001b[0m\n",
            "\u001b[0;32m<ipython-input-31-d79c506cc053>\u001b[0m in \u001b[0;36msequence_prediction\u001b[0;34m(path)\u001b[0m\n\u001b[1;32m     25\u001b[0m     \u001b[0mframes\u001b[0m \u001b[0;34m=\u001b[0m \u001b[0mload_video\u001b[0m\u001b[0;34m(\u001b[0m\u001b[0mos\u001b[0m\u001b[0;34m.\u001b[0m\u001b[0mpath\u001b[0m\u001b[0;34m.\u001b[0m\u001b[0mjoin\u001b[0m\u001b[0;34m(\u001b[0m\u001b[0;34m\"test\"\u001b[0m\u001b[0;34m,\u001b[0m \u001b[0mpath\u001b[0m\u001b[0;34m)\u001b[0m\u001b[0;34m)\u001b[0m\u001b[0;34m\u001b[0m\u001b[0;34m\u001b[0m\u001b[0m\n\u001b[1;32m     26\u001b[0m     \u001b[0mframe_features\u001b[0m\u001b[0;34m,\u001b[0m \u001b[0mframe_mask\u001b[0m \u001b[0;34m=\u001b[0m \u001b[0mprepare_single_video\u001b[0m\u001b[0;34m(\u001b[0m\u001b[0mframes\u001b[0m\u001b[0;34m)\u001b[0m\u001b[0;34m\u001b[0m\u001b[0;34m\u001b[0m\u001b[0m\n\u001b[0;32m---> 27\u001b[0;31m     \u001b[0mprobabilities\u001b[0m \u001b[0;34m=\u001b[0m \u001b[0msequence_model\u001b[0m\u001b[0;34m.\u001b[0m\u001b[0mpredict\u001b[0m\u001b[0;34m(\u001b[0m\u001b[0;34m[\u001b[0m\u001b[0mframe_features\u001b[0m\u001b[0;34m,\u001b[0m \u001b[0mframe_mask\u001b[0m\u001b[0;34m]\u001b[0m\u001b[0;34m)\u001b[0m\u001b[0;34m[\u001b[0m\u001b[0;36m0\u001b[0m\u001b[0;34m]\u001b[0m\u001b[0;34m\u001b[0m\u001b[0;34m\u001b[0m\u001b[0m\n\u001b[0m\u001b[1;32m     28\u001b[0m \u001b[0;34m\u001b[0m\u001b[0m\n\u001b[1;32m     29\u001b[0m     \u001b[0;32mfor\u001b[0m \u001b[0mi\u001b[0m \u001b[0;32min\u001b[0m \u001b[0mnp\u001b[0m\u001b[0;34m.\u001b[0m\u001b[0margsort\u001b[0m\u001b[0;34m(\u001b[0m\u001b[0mprobabilities\u001b[0m\u001b[0;34m)\u001b[0m\u001b[0;34m[\u001b[0m\u001b[0;34m:\u001b[0m\u001b[0;34m:\u001b[0m\u001b[0;34m-\u001b[0m\u001b[0;36m1\u001b[0m\u001b[0;34m]\u001b[0m\u001b[0;34m:\u001b[0m\u001b[0;34m\u001b[0m\u001b[0;34m\u001b[0m\u001b[0m\n",
            "\u001b[0;31mTypeError\u001b[0m: SequenceModel.predict() missing 1 required positional argument: 'x'"
          ]
        }
      ],
      "source": [
        "def prepare_single_video(frames):\n",
        "    frames = frames[None, ...]\n",
        "    frame_mask = np.zeros(\n",
        "        shape=(\n",
        "            1,\n",
        "            MAX_SEQ_LENGTH,\n",
        "        ),\n",
        "        dtype=\"bool\",\n",
        "    )\n",
        "    frame_features = np.zeros(shape=(1, MAX_SEQ_LENGTH, NUM_FEATURES), dtype=\"float32\")\n",
        "\n",
        "    for i, batch in enumerate(frames):\n",
        "        video_length = batch.shape[0]\n",
        "        length = min(MAX_SEQ_LENGTH, video_length)\n",
        "        for j in range(length):\n",
        "            frame_features[i, j, :] = feature_extractor.predict(batch[None, j, :])\n",
        "        frame_mask[i, :length] = 1  # 1 = not masked, 0 = masked\n",
        "\n",
        "    return frame_features, frame_mask\n",
        "\n",
        "\n",
        "def sequence_prediction(path):\n",
        "    class_vocab = label_processor.get_vocabulary()\n",
        "\n",
        "    frames = load_video(os.path.join(\"test\", path))\n",
        "    frame_features, frame_mask = prepare_single_video(frames)\n",
        "    probabilities = sequence_model.predict([frame_features, frame_mask])[0]\n",
        "\n",
        "    for i in np.argsort(probabilities)[::-1]:\n",
        "        print(f\"  {class_vocab[i]}: {probabilities[i] * 100:5.2f}%\")\n",
        "    return frames\n",
        "\n",
        "\n",
        "# This utility is for visualization.\n",
        "# Referenced from:\n",
        "# https://www.tensorflow.org/hub/tutorials/action_recognition_with_tf_hub\n",
        "def to_gif(images):\n",
        "    converted_images = images.astype(np.uint8)\n",
        "    imageio.mimsave(\"animation.gif\", converted_images, duration=100)\n",
        "    return Image(\"animation.gif\")\n",
        "\n",
        "\n",
        "test_video = np.random.choice(test_df[\"video_name\"].values.tolist())\n",
        "print(f\"Test video path: {test_video}\")\n",
        "test_frames = sequence_prediction(test_video)\n",
        "to_gif(test_frames[:MAX_SEQ_LENGTH])\n"
      ]
    },
    {
      "cell_type": "markdown",
      "metadata": {
        "id": "Iwef3rIzTAwQ"
      },
      "source": [
        "## Next steps\n",
        "\n",
        "* In this example, we made use of transfer learning for extracting meaningful features\n",
        "from video frames. You could also fine-tune the pre-trained network to notice how that\n",
        "affects the end results.\n",
        "* For speed-accuracy trade-offs, you can try out other models present inside\n",
        "`keras.applications`.\n",
        "* Try different combinations of `MAX_SEQ_LENGTH` to observe how that affects the\n",
        "performance.\n",
        "* Train on a higher number of classes and see if you are able to get good performance.\n",
        "* Following [this tutorial](https://www.tensorflow.org/hub/tutorials/action_recognition_with_tf_hub), try a\n",
        "[pre-trained action recognition model](https://arxiv.org/abs/1705.07750) from DeepMind.\n",
        "* Rolling-averaging can be useful technique for video classification and it can be\n",
        "combined with a standard image classification model to infer on videos.\n",
        "[This tutorial](https://www.pyimagesearch.com/2019/07/15/video-classification-with-keras-and-deep-learning/)\n",
        "will help understand how to use rolling-averaging with an image classifier.\n",
        "* When there are variations in between the frames of a video not all the frames might be\n",
        "equally important to decide its category. In those situations, putting a\n",
        "[self-attention layer](https://www.tensorflow.org/api_docs/python/tf/keras/layers/Attention) in the\n",
        "sequence model will likely yield better results.\n",
        "* Following [this book chapter](https://livebook.manning.com/book/deep-learning-with-python-second-edition/chapter-11),\n",
        "you can implement Transformers-based models for processing videos."
      ]
    }
  ],
  "metadata": {
    "accelerator": "GPU",
    "colab": {
      "name": "video_classification",
      "provenance": []
    },
    "kernelspec": {
      "display_name": "Python 3",
      "language": "python",
      "name": "python3"
    },
    "language_info": {
      "codemirror_mode": {
        "name": "ipython",
        "version": 3
      },
      "file_extension": ".py",
      "mimetype": "text/x-python",
      "name": "python",
      "nbconvert_exporter": "python",
      "pygments_lexer": "ipython3",
      "version": "3.7.0"
    }
  },
  "nbformat": 4,
  "nbformat_minor": 0
}